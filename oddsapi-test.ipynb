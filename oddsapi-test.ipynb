{
 "cells": [
  {
   "cell_type": "code",
   "execution_count": 1,
   "metadata": {},
   "outputs": [],
   "source": [
    "import requests\n",
    "import json\n",
    "from helper_functions import *"
   ]
  },
  {
   "cell_type": "code",
   "execution_count": 2,
   "metadata": {},
   "outputs": [
    {
     "name": "stdout",
     "output_type": "stream",
     "text": [
      "8113263d3eb54540f579dd2200da1737\n"
     ]
    }
   ],
   "source": [
    "API_KEY = open('api_key.txt', 'r').readlines()[0].strip()\n",
    "print(API_KEY)"
   ]
  },
  {
   "cell_type": "code",
   "execution_count": 8,
   "metadata": {},
   "outputs": [
    {
     "data": {
      "text/plain": [
       "<Response [200]>"
      ]
     },
     "execution_count": 8,
     "metadata": {},
     "output_type": "execute_result"
    }
   ],
   "source": [
    "req = requests.get(f\"https://api.the-odds-api.com/v4/sports/?apiKey={API_KEY}\")\n",
    "obj = req.json()\n",
    "req"
   ]
  },
  {
   "cell_type": "code",
   "execution_count": 9,
   "metadata": {},
   "outputs": [
    {
     "name": "stdout",
     "output_type": "stream",
     "text": [
      "Requests Used - 486; Requests Remaning - 14\n"
     ]
    }
   ],
   "source": [
    "headers = req.headers\n",
    "print(f\"Requests Used - {headers['X-Requests-Used']}; Requests Remaning - {headers['X-Requests-Remaining']}\")"
   ]
  },
  {
   "cell_type": "code",
   "execution_count": null,
   "metadata": {},
   "outputs": [],
   "source": [
    "for i in obj:\n",
    "    if i['title'] == \"NBA\":\n",
    "        print(i)\n"
   ]
  },
  {
   "cell_type": "code",
   "execution_count": 18,
   "metadata": {},
   "outputs": [],
   "source": [
    "nba_req = requests.get(f\"https://api.the-odds-api.com/v4/sports/basketball_nba/odds/?apiKey={API_KEY}&markets=h2h&regions=us&oddsFormat=american\")\n"
   ]
  },
  {
   "cell_type": "code",
   "execution_count": 19,
   "metadata": {},
   "outputs": [
    {
     "data": {
      "text/plain": [
       "{'message': 'Invalid parameter combination. The given markets cannot be used with this sport.'}"
      ]
     },
     "execution_count": 19,
     "metadata": {},
     "output_type": "execute_result"
    }
   ],
   "source": [
    "nba_obj = nba_req.json()\n",
    "\n",
    "nba_obj"
   ]
  },
  {
   "cell_type": "code",
   "execution_count": null,
   "metadata": {},
   "outputs": [],
   "source": [
    "count = 0\n",
    "for game in nba_obj:\n",
    "    print(f\"Game #{count}: {game['away_team']} @ {game['home_team']} at {game['commence_time']}\")\n",
    "    for bookmaker in game['bookmakers']:\n",
    "        outcomes = bookmaker['markets'][0]['outcomes']\n",
    "        team1, team2 = outcomes[0], outcomes[1]\n",
    "        american_odds_t1, american_odds_t2 = team1['price'], team2['price']\n",
    "        decimal_odds_t1, decimal_odds_t2 = american_to_decimal(team1['price']), american_to_decimal(team2['price'])\n",
    "        implied_odds_t1, implied_odds_t2 = decimal_to_implied(decimal_odds_t1), decimal_to_implied(decimal_odds_t2)\n",
    "\n",
    "        print(f\"\\t{bookmaker['key']}\")\n",
    "        print(f\"\\t\\t{team1['name']}: {american_odds_t1} vs {team2['name']}: {american_odds_t2}\")\n",
    "        print(f\"\\t\\t{team1['name']}: {decimal_odds_t1} vs {team2['name']}: {decimal_odds_t2}\")\n",
    "        print(f\"\\t\\t{team1['name']}: {implied_odds_t1} vs {team2['name']}: {implied_odds_t2}\")\n",
    "    print()\n",
    "    count += 1"
   ]
  },
  {
   "cell_type": "code",
   "execution_count": null,
   "metadata": {},
   "outputs": [],
   "source": [
    "count = 0\n",
    "for game in nba_obj:\n",
    "    print(f\"Game #{count}: {game['away_team']} @ {game['home_team']} at {game['commence_time']}\")\n",
    "    print(detect_arbitrage(game))\n",
    "    print()\n",
    "    count += 1"
   ]
  }
 ],
 "metadata": {
  "kernelspec": {
   "display_name": "base",
   "language": "python",
   "name": "python3"
  },
  "language_info": {
   "codemirror_mode": {
    "name": "ipython",
    "version": 3
   },
   "file_extension": ".py",
   "mimetype": "text/x-python",
   "name": "python",
   "nbconvert_exporter": "python",
   "pygments_lexer": "ipython3",
   "version": "3.12.1"
  }
 },
 "nbformat": 4,
 "nbformat_minor": 2
}
